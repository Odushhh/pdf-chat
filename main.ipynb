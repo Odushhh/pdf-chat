{
 "cells": [
  {
   "attachments": {},
   "cell_type": "markdown",
   "metadata": {},
   "source": [
    "# RAG using using ⌘ R+\n",
    "\n",
    "\n",
    "<img src=\"cmdr+.png\" width=800px>"
   ]
  },
  {
   "cell_type": "code",
   "execution_count": 1,
   "metadata": {},
   "outputs": [],
   "source": [
    "import nest_asyncio\n",
    "from dotenv import load_dotenv\n",
    "from IPython.display import Markdown, display\n",
    "\n",
    "from llama_index.core import Settings\n",
    "from llama_index.core import VectorStoreIndex, ServiceContext, SimpleDirectoryReader\n",
    "\n",
    "from llama_index.llms.cohere import Cohere\n",
    "from llama_index.embeddings.cohere import CohereEmbedding\n",
    "from llama_index.postprocessor.cohere_rerank import CohereRerank\n",
    "\n",
    "from llama_index.core import SimpleDirectoryReader, PromptHelper, ServiceContext, StorageContext, load_index_from_storage"
   ]
  },
  {
   "cell_type": "code",
   "execution_count": 2,
   "metadata": {},
   "outputs": [],
   "source": [
    "# allows nested access to the event loop\n",
    "nest_asyncio.apply()"
   ]
  },
  {
   "cell_type": "code",
   "execution_count": 3,
   "metadata": {},
   "outputs": [],
   "source": [
    "# put your API key here, find one at: https://dashboard.cohere.com/api-keys\n",
    "API_KEY = 'zhMrOjPTMRsBlwEcx58f6rkEluu3WUiHetNW2xEX'\n",
    "\n",
    "# add your documents in this directory, you can drag & drop\n",
    "\n",
    "# input_dir_path = '/teamspace/studios/this_studio/test-dir'\n",
    "input_dir_path = '/teamspace/studios/this_studio/pdf_files'"
   ]
  },
  {
   "cell_type": "code",
   "execution_count": 4,
   "metadata": {},
   "outputs": [],
   "source": [
    "\n",
    "# setup llm & embedding model\n",
    "llm = Cohere(api_key=API_KEY, model=\"command-r-plus\")\n",
    "\n",
    "embed_model = CohereEmbedding(\n",
    "    cohere_api_key=API_KEY,\n",
    "    model_name=\"embed-english-v3.0\",\n",
    "    input_type=\"search_query\",\n",
    ")"
   ]
  },
  {
   "cell_type": "code",
   "execution_count": 5,
   "metadata": {},
   "outputs": [
    {
     "name": "stdout",
     "output_type": "stream",
     "text": [
      "Directory '/teamspace/studios/this_studio/pdf_files 'exists.\n",
      "Files in the directory:  ['AI-in-Health.pdf', 'Constitution-of-Kenya-2010.pdf', 'finance-bill-2024.pdf']\n",
      "PDF files found: ['AI-in-Health.pdf', 'Constitution-of-Kenya-2010.pdf', 'finance-bill-2024.pdf']\n"
     ]
    }
   ],
   "source": [
    "import os \n",
    "\n",
    "input_dir_path = '/teamspace/studios/this_studio/pdf_files'\n",
    "\n",
    "if os.path.exists(input_dir_path):\n",
    "  print(f\"Directory '{input_dir_path} 'exists.\")\n",
    "\n",
    "  files = os.listdir(input_dir_path)\n",
    "  print(\"Files in the directory: \", files)\n",
    "\n",
    "  pdf_files = [f for f in files if f.endswith(\".pdf\")]\n",
    "  if pdf_files:\n",
    "    print(\"PDF files found:\", pdf_files)\n",
    "  else:\n",
    "    print(\"No PDF files found.\")\n",
    "else:\n",
    "  print(f\"Directory '{input_dir_path}' does not exist.\")\n"
   ]
  },
  {
   "cell_type": "code",
   "execution_count": 6,
   "metadata": {},
   "outputs": [
    {
     "data": {
      "application/vnd.jupyter.widget-view+json": {
       "model_id": "68d2e9ea834c4998ad22c20424ddbb34",
       "version_major": 2,
       "version_minor": 0
      },
      "text/plain": [
       "Parsing nodes:   0%|          | 0/209 [00:00<?, ?it/s]"
      ]
     },
     "metadata": {},
     "output_type": "display_data"
    },
    {
     "data": {
      "application/vnd.jupyter.widget-view+json": {
       "model_id": "0a11e04b73de49aab509cc20a9822d0a",
       "version_major": 2,
       "version_minor": 0
      },
      "text/plain": [
       "Generating embeddings:   0%|          | 0/224 [00:00<?, ?it/s]"
      ]
     },
     "metadata": {},
     "output_type": "display_data"
    }
   ],
   "source": [
    "import os\n",
    "import pypdf\n",
    "from llama_index.core import SimpleDirectoryReader\n",
    "\n",
    "\n",
    "# load data\n",
    "loader = SimpleDirectoryReader(\n",
    "            input_dir = input_dir_path,\n",
    "            required_exts=[\".pdf\"],\n",
    "            recursive=True\n",
    "        )\n",
    "docs = loader.load_data()\n",
    "\n",
    "# Creating an index over loaded data\n",
    "Settings.embed_model = embed_model\n",
    "index = VectorStoreIndex.from_documents(docs, show_progress=True)\n",
    "\n",
    "# Create a cohere reranker \n",
    "cohere_rerank = CohereRerank(\n",
    "                        model='rerank-english-v3.0',\n",
    "                        api_key=API_KEY,\n",
    "                    )\n",
    "# Create the query engine, where we use a cohere reranker on the fetched nodes\n",
    "Settings.llm = llm\n",
    "query_engine = index.as_query_engine(node_postprocessors=[cohere_rerank])\n",
    "\n",
    "# Generate the response\n",
    "response = query_engine.query(\"What exactly is DSPy?\",)"
   ]
  },
  {
   "cell_type": "code",
   "execution_count": 7,
   "metadata": {},
   "outputs": [
    {
     "data": {
      "text/markdown": [
       "I'm sorry, but the provided context does not contain any information about DSPy."
      ],
      "text/plain": [
       "<IPython.core.display.Markdown object>"
      ]
     },
     "metadata": {},
     "output_type": "display_data"
    }
   ],
   "source": [
    "display(Markdown(str(response)))"
   ]
  },
  {
   "cell_type": "code",
   "execution_count": null,
   "metadata": {},
   "outputs": [],
   "source": []
  },
  {
   "cell_type": "code",
   "execution_count": null,
   "metadata": {},
   "outputs": [],
   "source": []
  }
 ],
 "metadata": {
  "kernelspec": {
   "display_name": "Python 3",
   "language": "python",
   "name": "python3"
  },
  "language_info": {
   "codemirror_mode": {
    "name": "ipython",
    "version": 3
   },
   "file_extension": ".py",
   "mimetype": "text/x-python",
   "name": "python",
   "nbconvert_exporter": "python",
   "pygments_lexer": "ipython3",
   "version": "3.10.10"
  }
 },
 "nbformat": 4,
 "nbformat_minor": 4
}
